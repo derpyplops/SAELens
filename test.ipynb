{
 "cells": [
  {
   "cell_type": "code",
   "execution_count": null,
   "metadata": {
    "collapsed": false
   },
   "outputs": [],
   "source": [
    "import sys\n",
    "\n",
    "from sae_lens.training.evals import run_evals\n",
    "from sae_lens.training.activations_store import ActivationsStore\n",
    "import transformer_lens\n",
    "from tests.unit.helpers import build_sae_cfg\n",
    "from datasets import Dataset\n",
    "from tqdm import tqdm\n",
    "import seaborn as sns\n",
    "import pandas as pd\n",
    "import matplotlib.pyplot as plt\n",
    "import json\n",
    "\n",
    "print(sys.version)\n",
    "%load_ext autoreload\n",
    "%autoreload 2"
   ]
  },
  {
   "cell_type": "code",
   "execution_count": null,
   "metadata": {
    "collapsed": false
   },
   "outputs": [],
   "source": [
    "from sae_lens.toolkit.pretrained_saes import get_gpt2_res_jb_saes\n",
    "\n",
    "saes, sparsities = get_gpt2_res_jb_saes(device='mps')"
   ]
  },
  {
   "cell_type": "code",
   "execution_count": null,
   "metadata": {},
   "outputs": [],
   "source": [
    "model = transformer_lens.HookedTransformer.from_pretrained(\"gpt2-small\", device=\"mps\")\n",
    "cfg = build_sae_cfg(\n",
    "    checkpoint_path=\"./checkpoints\",\n",
    "    train_batch_size=1000,\n",
    "    total_training_tokens=100000,\n",
    "    context_size=72,\n",
    "    device=\"mps\",\n",
    "    d_in=768,\n",
    ")\n",
    "dataset = Dataset.from_list([{\"text\": \"hello world\"}] * 100000)\n",
    "activation_store = ActivationsStore.from_config(model, cfg, dataset=dataset)\n",
    "res = {}\n",
    "ctx = {\n",
    "    \"suffix\": \"\",\n",
    "    \"n_training_steps\": 100000,\n",
    "}\n",
    "\n",
    "for name, sae in tqdm(saes.items(), desc=\"Evaluating SAEs\"):\n",
    "    metrics = run_evals(sae, activation_store, model, ctx)\n",
    "    res[name] = metrics.as_dict(suffix=\"\")\n",
    "\n",
    "# save metrics to file\n",
    "\n",
    "with open(\"gpt2_small_metrics.json\", \"w\") as f:\n",
    "    json.dump(res, f)\n"
   ]
  },
  {
   "cell_type": "code",
   "execution_count": null,
   "outputs": [],
   "source": [
    "res"
   ],
   "metadata": {
    "collapsed": false
   }
  },
  {
   "cell_type": "code",
   "execution_count": null,
   "outputs": [],
   "source": [
    "%matplotlib inline\n",
    "\n",
    "def create_heatmap(metrics_dict):\n",
    "    # Convert the nested dictionary to a pandas DataFrame\n",
    "    df = pd.DataFrame.from_dict(metrics_dict, orient='index')\n",
    "\n",
    "    # Melt the DataFrame to reshape it for heatmap visualization\n",
    "    df_melted = pd.melt(df.reset_index(), id_vars='index', var_name='Metric', value_name='Value')\n",
    "\n",
    "    # Create a pivot table to reshape the data for the heatmap\n",
    "    df_pivot = df_melted.pivot(index='Metric', columns='index', values='Value')\n",
    "\n",
    "    # Normalize the values within each row for color scaling\n",
    "    def normalize_row(row):\n",
    "        if row.max() == row.min():\n",
    "            return pd.Series(0.0, index=row.index)\n",
    "        else:\n",
    "            return (row - row.min()) / (row.max() - row.min())\n",
    "\n",
    "    df_normalized = df_pivot.apply(normalize_row, axis=1)\n",
    "\n",
    "    # Create a custom diverging color palette using vlag\n",
    "    cmap = sns.color_palette(\"PuBu\", as_cmap=True)\n",
    "\n",
    "    # Set the figure size before creating the plot\n",
    "    plt.figure(figsize=(24, 18))  # Adjust the values as needed\n",
    "\n",
    "    # Create the heatmap using seaborn with the custom color palette and normalized values\n",
    "    sns.heatmap(df_normalized, cmap=cmap, annot=df_pivot, fmt='.2f', cbar_kws={'label': 'Normalized Value'},\n",
    "                annot_kws={\"size\": 10})\n",
    "\n",
    "    # Set the plot title and labels\n",
    "    plt.title('Metrics Heatmap')\n",
    "    plt.xlabel('Instance')\n",
    "    plt.ylabel('Metric')\n",
    "\n",
    "    # Display the plot\n",
    "    plt.show()\n",
    "\n",
    "    # Save the plot\n",
    "    plt.savefig(\"gpt2_small_metrics_heatmap.png\")\n",
    "\n",
    "\n",
    "with open(\"gpt2_small_metrics.json\", \"r\") as f:\n",
    "    metrics = json.load(f)\n",
    "    create_heatmap(metrics)\n"
   ],
   "metadata": {
    "collapsed": false
   }
  },
  {
   "cell_type": "code",
   "execution_count": null,
   "outputs": [],
   "source": [],
   "metadata": {
    "collapsed": false
   }
  }
 ],
 "metadata": {
  "kernelspec": {
   "display_name": "Python 3 (ipykernel)",
   "language": "python",
   "name": "python3"
  },
  "language_info": {
   "codemirror_mode": {
    "name": "ipython",
    "version": 3
   },
   "file_extension": ".py",
   "mimetype": "text/x-python",
   "name": "python",
   "nbconvert_exporter": "python",
   "pygments_lexer": "ipython3",
   "version": "3.9.19"
  }
 },
 "nbformat": 4,
 "nbformat_minor": 4
}
