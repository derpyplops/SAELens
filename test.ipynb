{
 "cells": [
  {
   "cell_type": "code",
   "execution_count": 26,
   "metadata": {
    "collapsed": false,
    "ExecuteTime": {
     "end_time": "2024-04-19T03:42:41.445669Z",
     "start_time": "2024-04-19T03:42:41.366080Z"
    }
   },
   "outputs": [
    {
     "name": "stdout",
     "output_type": "stream",
     "text": [
      "3.11.8 (main, Feb 26 2024, 15:36:12) [Clang 14.0.6 ]\n",
      "The autoreload extension is already loaded. To reload it, use:\n",
      "  %reload_ext autoreload\n"
     ]
    }
   ],
   "source": [
    "import sys\n",
    "print(sys.version)\n",
    "%load_ext autoreload\n",
    "%autoreload 2"
   ]
  },
  {
   "cell_type": "code",
   "execution_count": null,
   "metadata": {
    "collapsed": false
   },
   "outputs": [],
   "source": [
    "from sae_lens.toolkit.pretrained_saes import get_gpt2_res_jb_saes\n",
    "\n",
    "saes, sparsities = get_gpt2_res_jb_saes(device='mps')"
   ]
  },
  {
   "cell_type": "code",
   "execution_count": 43,
   "metadata": {
    "ExecuteTime": {
     "end_time": "2024-04-19T06:34:53.953713Z",
     "start_time": "2024-04-19T06:33:53.525733Z"
    }
   },
   "outputs": [
    {
     "name": "stdout",
     "output_type": "stream",
     "text": [
      "Loaded pretrained model gpt2-small into HookedTransformer\n",
      "Run name: 128-L1-0.002-LR-0.0002-Tokens-1.000e+06\n",
      "n_tokens_per_buffer (millions): 4.8e-05\n",
      "Lower bound: n_contexts_per_buffer (millions): 8e-06\n",
      "Total training steps: 250000\n",
      "Total wandb updates: 25000\n",
      "n_tokens_per_feature_sampling_window (millions): 0.0012\n",
      "n_tokens_per_dead_feature_window (millions): 0.024\n",
      "We will reset the sparsity calculation 5000 times.\n",
      "Number tokens in sparsity calculation window: 2.00e+02\n"
     ]
    },
    {
     "data": {
      "text/plain": "\u001B[1m{\u001B[0m\n    \u001B[32m'metrics/l0_norm_potato'\u001B[0m: \u001B[1;36m768.0\u001B[0m,\n    \u001B[32m'metrics/l0_ratio_potato'\u001B[0m: \u001B[1;36m1.0\u001B[0m,\n    \u001B[32m'metrics/l1_norm_potato'\u001B[0m: \u001B[1;36m86.08262634277344\u001B[0m,\n    \u001B[32m'metrics/l1_ratio_potato'\u001B[0m: \u001B[1;36m0.9125170111656189\u001B[0m,\n    \u001B[32m'metrics/l2_norm_potato'\u001B[0m: \u001B[1;36m4.857132911682129\u001B[0m,\n    \u001B[32m'metrics/l2_ratio_potato'\u001B[0m: \u001B[1;36m0.9421585202217102\u001B[0m,\n    \u001B[32m'metrics/CE_loss_score_potato'\u001B[0m: \u001B[1;36m1.0109683275222778\u001B[0m,\n    \u001B[32m'metrics/ce_loss_without_sae_potato'\u001B[0m: \u001B[1;36m5.607950210571289\u001B[0m,\n    \u001B[32m'metrics/ce_loss_with_sae_potato'\u001B[0m: \u001B[1;36m5.397302150726318\u001B[0m,\n    \u001B[32m'metrics/ce_loss_with_ablation_potato'\u001B[0m: \u001B[1;36m24.81311798095703\u001B[0m,\n    \u001B[32m'metrics/kl_div_potato'\u001B[0m: \u001B[1;36m14.129919052124023\u001B[0m\n\u001B[1m}\u001B[0m\n",
      "text/html": "<pre style=\"white-space:pre;overflow-x:auto;line-height:normal;font-family:Menlo,'DejaVu Sans Mono',consolas,'Courier New',monospace\"><span style=\"font-weight: bold\">{</span>\n    <span style=\"color: #008000; text-decoration-color: #008000\">'metrics/l0_norm_potato'</span>: <span style=\"color: #008080; text-decoration-color: #008080; font-weight: bold\">768.0</span>,\n    <span style=\"color: #008000; text-decoration-color: #008000\">'metrics/l0_ratio_potato'</span>: <span style=\"color: #008080; text-decoration-color: #008080; font-weight: bold\">1.0</span>,\n    <span style=\"color: #008000; text-decoration-color: #008000\">'metrics/l1_norm_potato'</span>: <span style=\"color: #008080; text-decoration-color: #008080; font-weight: bold\">86.08262634277344</span>,\n    <span style=\"color: #008000; text-decoration-color: #008000\">'metrics/l1_ratio_potato'</span>: <span style=\"color: #008080; text-decoration-color: #008080; font-weight: bold\">0.9125170111656189</span>,\n    <span style=\"color: #008000; text-decoration-color: #008000\">'metrics/l2_norm_potato'</span>: <span style=\"color: #008080; text-decoration-color: #008080; font-weight: bold\">4.857132911682129</span>,\n    <span style=\"color: #008000; text-decoration-color: #008000\">'metrics/l2_ratio_potato'</span>: <span style=\"color: #008080; text-decoration-color: #008080; font-weight: bold\">0.9421585202217102</span>,\n    <span style=\"color: #008000; text-decoration-color: #008000\">'metrics/CE_loss_score_potato'</span>: <span style=\"color: #008080; text-decoration-color: #008080; font-weight: bold\">1.0109683275222778</span>,\n    <span style=\"color: #008000; text-decoration-color: #008000\">'metrics/ce_loss_without_sae_potato'</span>: <span style=\"color: #008080; text-decoration-color: #008080; font-weight: bold\">5.607950210571289</span>,\n    <span style=\"color: #008000; text-decoration-color: #008000\">'metrics/ce_loss_with_sae_potato'</span>: <span style=\"color: #008080; text-decoration-color: #008080; font-weight: bold\">5.397302150726318</span>,\n    <span style=\"color: #008000; text-decoration-color: #008000\">'metrics/ce_loss_with_ablation_potato'</span>: <span style=\"color: #008080; text-decoration-color: #008080; font-weight: bold\">24.81311798095703</span>,\n    <span style=\"color: #008000; text-decoration-color: #008000\">'metrics/kl_div_potato'</span>: <span style=\"color: #008080; text-decoration-color: #008080; font-weight: bold\">14.129919052124023</span>\n<span style=\"font-weight: bold\">}</span>\n</pre>\n"
     },
     "metadata": {},
     "output_type": "display_data"
    }
   ],
   "source": [
    "from sae_lens.training.evals import run_evals\n",
    "from sae_lens.training.activations_store import ActivationsStore\n",
    "import transformer_lens\n",
    "from tests.unit.helpers import build_sae_cfg\n",
    "from datasets import Dataset\n",
    "import rich\n",
    "\n",
    "model = transformer_lens.HookedTransformer.from_pretrained(\"gpt2-small\", device=\"mps\")\n",
    "cfg = build_sae_cfg(\n",
    "        checkpoint_path=\"./checkpoints\",\n",
    "        train_batch_size=768,\n",
    "        total_training_tokens=100000,\n",
    "        context_size=64,\n",
    "        device=\"mps\"\n",
    "    )\n",
    "dataset = Dataset.from_list([{\"text\": \"hello world\"}] * 100000)\n",
    "activation_store = ActivationsStore.from_config(model, cfg, dataset=dataset)\n",
    "# for name, sae in saes.items():\n",
    "name = \"potato\"\n",
    "sae = list(saes.values())[0]\n",
    "res = run_evals(sae, activation_store, model, 1000, f\"_{name}\")\n",
    "rich.print(res)"
   ]
  },
  {
   "cell_type": "code",
   "execution_count": 36,
   "outputs": [
    {
     "data": {
      "text/plain": "torch.Size([4, 64])"
     },
     "execution_count": 36,
     "metadata": {},
     "output_type": "execute_result"
    }
   ],
   "source": [
    "sparse_autoencoder = sae\n",
    "hook_point = sparse_autoencoder.cfg.hook_point\n",
    "hook_point_layer = sparse_autoencoder.hook_point_layer\n",
    "hook_point_head_index = sparse_autoencoder.cfg.hook_point_head_index\n",
    "hook_point_eval = sparse_autoencoder.cfg.hook_point_eval.format(\n",
    "    layer=hook_point_layer\n",
    ")\n",
    "### Evals\n",
    "eval_tokens = activation_store.get_batch_tokens()\n",
    "eval_tokens.shape"
   ],
   "metadata": {
    "collapsed": false,
    "ExecuteTime": {
     "end_time": "2024-04-19T04:44:07.205951Z",
     "start_time": "2024-04-19T04:44:06.978376Z"
    }
   }
  },
  {
   "cell_type": "code",
   "execution_count": 41,
   "outputs": [],
   "source": [
    "logits_without_sae = model(\n",
    "        eval_tokens,\n",
    "        **sparse_autoencoder.cfg.model_kwargs,\n",
    "    )"
   ],
   "metadata": {
    "collapsed": false,
    "ExecuteTime": {
     "end_time": "2024-04-19T06:21:33.567387Z",
     "start_time": "2024-04-19T06:21:09.195766Z"
    }
   }
  },
  {
   "cell_type": "code",
   "execution_count": 42,
   "outputs": [
    {
     "data": {
      "text/plain": "torch.Size([4, 64, 50257])"
     },
     "execution_count": 42,
     "metadata": {},
     "output_type": "execute_result"
    }
   ],
   "source": [
    "logits_without_sae.shape"
   ],
   "metadata": {
    "collapsed": false,
    "ExecuteTime": {
     "end_time": "2024-04-19T06:21:56.546194Z",
     "start_time": "2024-04-19T06:21:56.177918Z"
    }
   }
  }
 ],
 "metadata": {
  "kernelspec": {
   "display_name": "Python 3 (ipykernel)",
   "language": "python",
   "name": "python3"
  },
  "language_info": {
   "codemirror_mode": {
    "name": "ipython",
    "version": 3
   },
   "file_extension": ".py",
   "mimetype": "text/x-python",
   "name": "python",
   "nbconvert_exporter": "python",
   "pygments_lexer": "ipython3",
   "version": "3.9.19"
  }
 },
 "nbformat": 4,
 "nbformat_minor": 4
}
