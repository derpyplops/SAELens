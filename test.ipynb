{
 "cells": [
  {
   "cell_type": "code",
   "execution_count": null,
   "metadata": {
    "collapsed": false
   },
   "outputs": [],
   "source": [
    "import sys\n",
    "\n",
    "print(sys.version)\n",
    "%load_ext autoreload\n",
    "%autoreload 2"
   ]
  },
  {
   "cell_type": "code",
   "execution_count": null,
   "metadata": {
    "collapsed": false
   },
   "outputs": [],
   "source": [
    "from sae_lens.toolkit.pretrained_saes import get_gpt2_res_jb_saes\n",
    "\n",
    "saes, sparsities = get_gpt2_res_jb_saes(device='mps')"
   ]
  },
  {
   "cell_type": "code",
   "execution_count": null,
   "metadata": {},
   "outputs": [],
   "source": [
    "from sae_lens.training.evals import run_evals\n",
    "from sae_lens.training.activations_store import ActivationsStore\n",
    "import transformer_lens\n",
    "from tests.unit.helpers import build_sae_cfg\n",
    "from datasets import Dataset\n",
    "import rich\n",
    "\n",
    "model = transformer_lens.HookedTransformer.from_pretrained(\"gpt2-small\", device=\"mps\")\n",
    "cfg = build_sae_cfg(\n",
    "    checkpoint_path=\"./checkpoints\",\n",
    "    train_batch_size=32,\n",
    "    total_training_tokens=100,\n",
    "    context_size=8,\n",
    "    device=\"mps\"\n",
    ")\n",
    "dataset = Dataset.from_list([{\"text\": \"hello world\"}] * 1000)\n",
    "activation_store = ActivationsStore.from_config(model, cfg, dataset=dataset)\n",
    "for name, sae in saes.items():\n",
    "    res = run_evals(sae, activation_store, model, 1, f\"_{name}\")\n",
    "    rich.print(res)\n",
    "    break"
   ]
  }
 ],
 "metadata": {
  "kernelspec": {
   "display_name": "Python 3 (ipykernel)",
   "language": "python",
   "name": "python3"
  },
  "language_info": {
   "codemirror_mode": {
    "name": "ipython",
    "version": 3
   },
   "file_extension": ".py",
   "mimetype": "text/x-python",
   "name": "python",
   "nbconvert_exporter": "python",
   "pygments_lexer": "ipython3",
   "version": "3.9.19"
  }
 },
 "nbformat": 4,
 "nbformat_minor": 4
}
